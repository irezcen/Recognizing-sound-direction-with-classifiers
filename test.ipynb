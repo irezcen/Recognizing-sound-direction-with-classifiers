{
 "cells": [
  {
   "cell_type": "code",
   "execution_count": 209,
   "metadata": {},
   "outputs": [],
   "source": [
    "from scipy import signal\n",
    "import numpy as np\n",
    "import librosa\n",
    "import sofa\n",
    "import soundfile as sf\n",
    "from IPython.display import Audio\n",
    "import sys,glob\n",
    "import scipy.stats\n",
    "from spafe.features.gfcc import gfcc\n",
    "#from binaural_cues import *"
   ]
  },
  {
   "cell_type": "code",
   "execution_count": 210,
   "metadata": {},
   "outputs": [
    {
     "name": "stdout",
     "output_type": "stream",
     "text": [
      "I: 1\n",
      "C: 3\n",
      "R: 2\n",
      "E: 1\n",
      "N: 256\n",
      "M: 2304\n",
      "S: 0\n"
     ]
    }
   ],
   "source": [
    "size = 44100\n",
    "WhiteNoise = np.random.normal(0, 1, size=size)\n",
    "sofaDir = 'dane_hrtf/sofa/*.sofa'\n",
    "_SOFA = glob.glob(sofaDir)\n",
    "HRTFs = list([sofa.Database.open(_SOFA[x]) for x in range(0, 30)])\n",
    "fs_H = HRTFs[1].Data.SamplingRate.get_values()[0]\n",
    "positions = HRTFs[1].Source.Position.get_values(system='spherical')\n",
    "HRTFs[1].Dimensions.dump()\n",
    "mix = np.vstack([WhiteNoise, WhiteNoise])"
   ]
  },
  {
   "cell_type": "code",
   "execution_count": 211,
   "metadata": {},
   "outputs": [],
   "source": [
    "def Efficient_ccf(x1,x2):\n",
    "    \"\"\"calculate cross-crrelation function in frequency domain, which is more \n",
    "    efficient than the direct calculation\"\"\"\n",
    "    \n",
    "    if x1.shape[0] != x2.shape[0]:\n",
    "        raise Exception('length mismatch')\n",
    "    wav_len = x1.shape[0]\n",
    "    # hanning window before fft\n",
    "    wf = np.hanning(wav_len)\n",
    "    x1 = x1*wf\n",
    "    x2 = x2*wf\n",
    "\n",
    "    X1 = np.fft.fft(x1,2*wav_len-1)# equivalent to add zeros \n",
    "    X2 = np.fft.fft(x2,2*wav_len-1)\n",
    "    ccf_unshift = np.real(np.fft.ifft(np.multiply(X1,np.conjugate(X2))))\n",
    "    ccf = np.concatenate([ccf_unshift[wav_len:],ccf_unshift[:wav_len]],axis=0)\n",
    "    \n",
    "    return ccf"
   ]
  },
  {
   "cell_type": "code",
   "execution_count": 212,
   "metadata": {},
   "outputs": [],
   "source": [
    "def get_ITD(x,fs,max_delay=None,inter_method='parabolic'):\n",
    "    \"\"\"\n",
    "    estimate ITD based on interaural corss-correlation function\n",
    "    itd = chann0_delay - chann1_delay\n",
    "    corr(i) = sum(x0[t]*x1[t-i])\n",
    "        | >0 chann1 lead\n",
    "    itd |\n",
    "        | <0 chann1 lead\n",
    "    input: \n",
    "        max_delay: maximum value of ITD, default value: 1ms\n",
    "        inter_method: method of ccf interpolation, \"None\"(default),\"parabolic\",'exponential'.\n",
    "    \"\"\"\n",
    "    wav_len = x.shape[0]\n",
    "    \n",
    "    # detrend\n",
    "    # x_detrend = x-np.mean(x,axis=0)\n",
    "    x_detrend = x\n",
    "    \n",
    "    if max_delay == None:\n",
    "        max_delay = int(1e-3*fs)\n",
    "    \n",
    "    if False:\n",
    "        # time domain\n",
    "        ccf_full = np.correlate(x_detrend[:,0],x_detrend[:,1],mode='full')\n",
    "        ccf = ccf_full[wav_len-1-max_delay:wav_len+max_delay]\n",
    "    else:\n",
    "        # frequency domain\n",
    "        ccf_full = Efficient_ccf(x_detrend[:,0],x_detrend[:,1])\n",
    "        ccf = ccf_full[wav_len-1-max_delay:wav_len+max_delay]\n",
    "    \n",
    "    ccf_std = ccf/(np.sqrt(np.sum(x_detrend[:,0]**2)*np.sum(x_detrend[:,1]**2)))\n",
    "    max_pos = np.argmax(ccf)\n",
    "    \n",
    "    ######################\n",
    "    if False:\n",
    "        plt.figure(1)\n",
    "        plt.clf()\n",
    "        plt.subplot(311);    plt.plot(ccf_std);\n",
    "        plt.plot([wav_len-max_delay-1,wav_len-max_delay-1],[0,1],'r')\n",
    "        plt.plot([wav_len+max_delay-1,wav_len+max_delay-1],[0,1],'r')\n",
    "        plt.plot(wav_len-1-max_delay+max_pos,ccf_std[wav_len-1-max_delay+max_pos],'x',linewidth=2)\n",
    "\n",
    "        plt.subplot(312);    plt.plot(x[:,0])\n",
    "        plt.subplot(313);    plt.plot(x[:,1])\n",
    "\n",
    "        plt.show(block=False)\n",
    "        plt.pause(0.001)\n",
    "    ######################\n",
    "    \n",
    "    # exponential interpolation \n",
    "    delta = 0\n",
    "    if inter_method == 'exponential':\n",
    "        if max_pos> 0 and max_pos < max_delay*2-2:\n",
    "            if np.min(ccf[max_pos-1:max_pos+2]) > 0:\n",
    "                delta = (np.log(ccf[max_pos+1])-np.log(ccf[max_pos-1]))/\\\n",
    "                            (4*np.log(ccf[max_pos])-\n",
    "                             2*np.log(ccf[max_pos-1])-\n",
    "                             2*np.log(ccf[max_pos+1]))\n",
    "    elif inter_method == 'parabolic':\n",
    "        if max_pos> 0 and max_pos < max_delay*2-2:\n",
    "            delta = (ccf[max_pos-1]-ccf[max_pos+1])/(2*(ccf[max_pos+1]-2*ccf[max_pos]+ccf[max_pos-1]))\n",
    "        \n",
    "    ITD = float((max_pos-max_delay-1+delta))/fs*1e3\n",
    "\n",
    "    return [ITD,ccf_std]"
   ]
  },
  {
   "cell_type": "code",
   "execution_count": 213,
   "metadata": {},
   "outputs": [
    {
     "name": "stdout",
     "output_type": "stream",
     "text": [
      "[0.0015897102192726949 0.9996962228815957 0.004147424054175357 ...\n",
      " 0.08507712351212651 2.5894787211811536 -1.0204081632653061]\n"
     ]
    },
    {
     "name": "stderr",
     "output_type": "stream",
     "text": [
      "C:\\Users\\Jakub Bociek\\AppData\\Local\\Temp\\ipykernel_8868\\1004166621.py:15: FutureWarning: Pass y=[ 0.70914928  0.955458   -1.51976846 ...  1.52300419  1.20179133\n",
      "  1.51160428] as keyword args. From version 0.10 passing these as positional arguments will result in an error\n",
      "  params.append(np.mean(librosa.feature.spectral_centroid(array[i], sr=sr)))\n",
      "C:\\Users\\Jakub Bociek\\AppData\\Local\\Temp\\ipykernel_8868\\1004166621.py:16: FutureWarning: Pass y=[ 0.70914928  0.955458   -1.51976846 ...  1.52300419  1.20179133\n",
      "  1.51160428] as keyword args. From version 0.10 passing these as positional arguments will result in an error\n",
      "  params.append(np.mean(librosa.feature.spectral_rolloff(array[i], sr=sr)))\n",
      "C:\\Users\\Jakub Bociek\\AppData\\Local\\Temp\\ipykernel_8868\\1004166621.py:18: FutureWarning: Pass y=[ 0.70914928  0.955458   -1.51976846 ...  1.52300419  1.20179133\n",
      "  1.51160428] as keyword args. From version 0.10 passing these as positional arguments will result in an error\n",
      "  params.extend(librosa.feature.mfcc(array[i], sr=sr, n_mfcc=13).flatten())\n",
      "C:\\Users\\Jakub Bociek\\AppData\\Local\\Temp\\ipykernel_8868\\1004166621.py:21: FutureWarning: Pass y=[ 0.70914928  0.955458   -1.51976846 ...  1.52300419  1.20179133\n",
      "  1.51160428] as keyword args. From version 0.10 passing these as positional arguments will result in an error\n",
      "  params.append(librosa.feature.rms(array[i], frame_length=sr).flatten())\n",
      "C:\\Users\\Jakub Bociek\\AppData\\Local\\Temp\\ipykernel_8868\\1004166621.py:33: VisibleDeprecationWarning: Creating an ndarray from ragged nested sequences (which is a list-or-tuple of lists-or-tuples-or ndarrays with different lengths or shapes) is deprecated. If you meant to do this, you must specify 'dtype=object' when creating the ndarray.\n",
      "  a = np.array(parameters(mix, 44100))\n"
     ]
    },
    {
     "ename": "TypeError",
     "evalue": "Mismatch between array dtype ('object') and format specifier ('%.18e')",
     "output_type": "error",
     "traceback": [
      "\u001b[1;31m---------------------------------------------------------------------------\u001b[0m",
      "\u001b[1;31mTypeError\u001b[0m                                 Traceback (most recent call last)",
      "File \u001b[1;32mc:\\Users\\Jakub Bociek\\AppData\\Local\\Programs\\Python\\Python310\\lib\\site-packages\\numpy\\lib\\npyio.py:1590\u001b[0m, in \u001b[0;36msavetxt\u001b[1;34m(fname, X, fmt, delimiter, newline, header, footer, comments, encoding)\u001b[0m\n\u001b[0;32m   1589\u001b[0m \u001b[39mtry\u001b[39;00m:\n\u001b[1;32m-> 1590\u001b[0m     v \u001b[39m=\u001b[39m \u001b[39mformat\u001b[39;49m \u001b[39m%\u001b[39;49m \u001b[39mtuple\u001b[39;49m(row) \u001b[39m+\u001b[39m newline\n\u001b[0;32m   1591\u001b[0m \u001b[39mexcept\u001b[39;00m \u001b[39mTypeError\u001b[39;00m \u001b[39mas\u001b[39;00m e:\n",
      "\u001b[1;31mTypeError\u001b[0m: only size-1 arrays can be converted to Python scalars",
      "\nThe above exception was the direct cause of the following exception:\n",
      "\u001b[1;31mTypeError\u001b[0m                                 Traceback (most recent call last)",
      "Cell \u001b[1;32mIn[213], line 35\u001b[0m\n\u001b[0;32m     33\u001b[0m a \u001b[39m=\u001b[39m np\u001b[39m.\u001b[39marray(parameters(mix, \u001b[39m44100\u001b[39m))\n\u001b[0;32m     34\u001b[0m \u001b[39mprint\u001b[39m(a)\n\u001b[1;32m---> 35\u001b[0m np\u001b[39m.\u001b[39;49msavetxt(\u001b[39m'\u001b[39;49m\u001b[39mtest.txt\u001b[39;49m\u001b[39m'\u001b[39;49m, a)\n",
      "File \u001b[1;32m<__array_function__ internals>:180\u001b[0m, in \u001b[0;36msavetxt\u001b[1;34m(*args, **kwargs)\u001b[0m\n",
      "File \u001b[1;32mc:\\Users\\Jakub Bociek\\AppData\\Local\\Programs\\Python\\Python310\\lib\\site-packages\\numpy\\lib\\npyio.py:1592\u001b[0m, in \u001b[0;36msavetxt\u001b[1;34m(fname, X, fmt, delimiter, newline, header, footer, comments, encoding)\u001b[0m\n\u001b[0;32m   1590\u001b[0m             v \u001b[39m=\u001b[39m \u001b[39mformat\u001b[39m \u001b[39m%\u001b[39m \u001b[39mtuple\u001b[39m(row) \u001b[39m+\u001b[39m newline\n\u001b[0;32m   1591\u001b[0m         \u001b[39mexcept\u001b[39;00m \u001b[39mTypeError\u001b[39;00m \u001b[39mas\u001b[39;00m e:\n\u001b[1;32m-> 1592\u001b[0m             \u001b[39mraise\u001b[39;00m \u001b[39mTypeError\u001b[39;00m(\u001b[39m\"\u001b[39m\u001b[39mMismatch between array dtype (\u001b[39m\u001b[39m'\u001b[39m\u001b[39m%s\u001b[39;00m\u001b[39m'\u001b[39m\u001b[39m) and \u001b[39m\u001b[39m\"\u001b[39m\n\u001b[0;32m   1593\u001b[0m                             \u001b[39m\"\u001b[39m\u001b[39mformat specifier (\u001b[39m\u001b[39m'\u001b[39m\u001b[39m%s\u001b[39;00m\u001b[39m'\u001b[39m\u001b[39m)\u001b[39m\u001b[39m\"\u001b[39m\n\u001b[0;32m   1594\u001b[0m                             \u001b[39m%\u001b[39m (\u001b[39mstr\u001b[39m(X\u001b[39m.\u001b[39mdtype), \u001b[39mformat\u001b[39m)) \u001b[39mfrom\u001b[39;00m \u001b[39me\u001b[39;00m\n\u001b[0;32m   1595\u001b[0m         fh\u001b[39m.\u001b[39mwrite(v)\n\u001b[0;32m   1597\u001b[0m \u001b[39mif\u001b[39;00m \u001b[39mlen\u001b[39m(footer) \u001b[39m>\u001b[39m \u001b[39m0\u001b[39m:\n",
      "\u001b[1;31mTypeError\u001b[0m: Mismatch between array dtype ('object') and format specifier ('%.18e')"
     ]
    }
   ],
   "source": [
    "def parameters(array, sr):\n",
    "    params = []\n",
    "    for i in range(2):\n",
    "        params.append(np.mean(array[i]))\n",
    "        params.append(np.std(array[i]))\n",
    "        params.append(np.median(array[i]))\n",
    "        params.append(np.percentile(array[i], 25))\n",
    "        params.append(np.percentile(array[i], 75))\n",
    "        params.append(scipy.stats.iqr(array[i], rng=(10, 90)))\n",
    "        params.append(scipy.stats.kurtosis(array[i]))\n",
    "        params.append(scipy.stats.skew(array[i]))\n",
    "        params.append(np.min(array[i]))\n",
    "        params.append(np.max(array[i]))\n",
    "        \n",
    "        params.append(np.mean(librosa.feature.spectral_centroid(array[i], sr=sr)))\n",
    "        params.append(np.mean(librosa.feature.spectral_rolloff(array[i], sr=sr)))\n",
    "        \n",
    "        params.extend(librosa.feature.mfcc(array[i], sr=sr, n_mfcc=13).flatten())\n",
    "        params.extend(gfcc(array[i], fs=sr, num_ceps=13).flatten())\n",
    "        #params.append(librosa.feature.zero_crossing_rate(array[i], frame_length=sr).flatten())\n",
    "        params.append(librosa.feature.rms(array[i], frame_length=sr).flatten())\n",
    "    length = len(params)\n",
    "    idx = length//2\n",
    "    l = params[:idx]\n",
    "    r = params[idx:]\n",
    "    for i,j in zip(l,r):\n",
    "        params.append(np.mean([i,j]))\n",
    "        params.append(np.std([i,j]))\n",
    "    params.append(10*np.log10(np.sum(array[:,1]**2)/np.sum(array[:,0]**2)+1e-10))\n",
    "    params.append(get_ITD(array, sr)[0])\n",
    "    return params \n",
    "\n",
    "a = np.array(parameters(mix, 44100))\n",
    "print(a)"
   ]
  }
 ],
 "metadata": {
  "kernelspec": {
   "display_name": "Python 3",
   "language": "python",
   "name": "python3"
  },
  "language_info": {
   "codemirror_mode": {
    "name": "ipython",
    "version": 3
   },
   "file_extension": ".py",
   "mimetype": "text/x-python",
   "name": "python",
   "nbconvert_exporter": "python",
   "pygments_lexer": "ipython3",
   "version": "3.10.9"
  },
  "orig_nbformat": 4,
  "vscode": {
   "interpreter": {
    "hash": "d8f7f873c6264afcd7493954ca8a682b928e82db5b16fd04e2fb4c78f99081fb"
   }
  }
 },
 "nbformat": 4,
 "nbformat_minor": 2
}
