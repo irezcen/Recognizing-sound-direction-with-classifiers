{
  "nbformat": 4,
  "nbformat_minor": 0,
  "metadata": {
    "colab": {
      "provenance": []
    },
    "kernelspec": {
      "name": "python3",
      "display_name": "Python 3"
    },
    "language_info": {
      "name": "python"
    }
  },
  "cells": [
    {
      "cell_type": "code",
      "execution_count": null,
      "metadata": {
        "colab": {
          "base_uri": "https://localhost:8080/"
        },
        "id": "ee68rQJE7UNz",
        "outputId": "7d717bb1-fb40-4b73-a03a-087b827acbb8"
      },
      "outputs": [
        {
          "output_type": "stream",
          "name": "stdout",
          "text": [
            "Looking in indexes: https://pypi.org/simple, https://us-python.pkg.dev/colab-wheels/public/simple/\n",
            "Collecting pydub\n",
            "  Downloading pydub-0.25.1-py2.py3-none-any.whl (32 kB)\n",
            "Installing collected packages: pydub\n",
            "Successfully installed pydub-0.25.1\n",
            "Looking in indexes: https://pypi.org/simple, https://us-python.pkg.dev/colab-wheels/public/simple/\n",
            "Collecting optuna\n",
            "  Downloading optuna-3.0.5-py3-none-any.whl (348 kB)\n",
            "\u001b[2K     \u001b[90m━━━━━━━━━━━━━━━━━━━━━━━━━━━━━━━━━━━━━━\u001b[0m \u001b[32m348.5/348.5 KB\u001b[0m \u001b[31m22.5 MB/s\u001b[0m eta \u001b[36m0:00:00\u001b[0m\n",
            "\u001b[?25hRequirement already satisfied: scipy<1.9.0,>=1.7.0 in /usr/local/lib/python3.8/dist-packages (from optuna) (1.7.3)\n",
            "Requirement already satisfied: tqdm in /usr/local/lib/python3.8/dist-packages (from optuna) (4.64.1)\n",
            "Collecting importlib-metadata<5.0.0\n",
            "  Downloading importlib_metadata-4.13.0-py3-none-any.whl (23 kB)\n",
            "Requirement already satisfied: PyYAML in /usr/local/lib/python3.8/dist-packages (from optuna) (6.0)\n",
            "Collecting alembic>=1.5.0\n",
            "  Downloading alembic-1.9.1-py3-none-any.whl (210 kB)\n",
            "\u001b[2K     \u001b[90m━━━━━━━━━━━━━━━━━━━━━━━━━━━━━━━━━━━━━━\u001b[0m \u001b[32m210.4/210.4 KB\u001b[0m \u001b[31m22.3 MB/s\u001b[0m eta \u001b[36m0:00:00\u001b[0m\n",
            "\u001b[?25hCollecting cliff\n",
            "  Downloading cliff-4.1.0-py3-none-any.whl (81 kB)\n",
            "\u001b[2K     \u001b[90m━━━━━━━━━━━━━━━━━━━━━━━━━━━━━━━━━━━━━━━━\u001b[0m \u001b[32m81.0/81.0 KB\u001b[0m \u001b[31m10.2 MB/s\u001b[0m eta \u001b[36m0:00:00\u001b[0m\n",
            "\u001b[?25hCollecting cmaes>=0.8.2\n",
            "  Downloading cmaes-0.9.1-py3-none-any.whl (21 kB)\n",
            "Requirement already satisfied: sqlalchemy>=1.3.0 in /usr/local/lib/python3.8/dist-packages (from optuna) (1.4.45)\n",
            "Requirement already satisfied: numpy in /usr/local/lib/python3.8/dist-packages (from optuna) (1.21.6)\n",
            "Collecting colorlog\n",
            "  Downloading colorlog-6.7.0-py2.py3-none-any.whl (11 kB)\n",
            "Requirement already satisfied: packaging>=20.0 in /usr/local/lib/python3.8/dist-packages (from optuna) (21.3)\n",
            "Collecting Mako\n",
            "  Downloading Mako-1.2.4-py3-none-any.whl (78 kB)\n",
            "\u001b[2K     \u001b[90m━━━━━━━━━━━━━━━━━━━━━━━━━━━━━━━━━━━━━━━━\u001b[0m \u001b[32m78.7/78.7 KB\u001b[0m \u001b[31m10.9 MB/s\u001b[0m eta \u001b[36m0:00:00\u001b[0m\n",
            "\u001b[?25hRequirement already satisfied: importlib-resources in /usr/local/lib/python3.8/dist-packages (from alembic>=1.5.0->optuna) (5.10.1)\n",
            "Requirement already satisfied: zipp>=0.5 in /usr/local/lib/python3.8/dist-packages (from importlib-metadata<5.0.0->optuna) (3.11.0)\n",
            "Requirement already satisfied: pyparsing!=3.0.5,>=2.0.2 in /usr/local/lib/python3.8/dist-packages (from packaging>=20.0->optuna) (3.0.9)\n",
            "Requirement already satisfied: greenlet!=0.4.17 in /usr/local/lib/python3.8/dist-packages (from sqlalchemy>=1.3.0->optuna) (2.0.1)\n",
            "Collecting stevedore>=2.0.1\n",
            "  Downloading stevedore-4.1.1-py3-none-any.whl (50 kB)\n",
            "\u001b[2K     \u001b[90m━━━━━━━━━━━━━━━━━━━━━━━━━━━━━━━━━━━━━━━━\u001b[0m \u001b[32m50.0/50.0 KB\u001b[0m \u001b[31m5.2 MB/s\u001b[0m eta \u001b[36m0:00:00\u001b[0m\n",
            "\u001b[?25hCollecting autopage>=0.4.0\n",
            "  Downloading autopage-0.5.1-py3-none-any.whl (29 kB)\n",
            "Collecting cmd2>=1.0.0\n",
            "  Downloading cmd2-2.4.2-py3-none-any.whl (147 kB)\n",
            "\u001b[2K     \u001b[90m━━━━━━━━━━━━━━━━━━━━━━━━━━━━━━━━━━━━━━\u001b[0m \u001b[32m147.1/147.1 KB\u001b[0m \u001b[31m13.5 MB/s\u001b[0m eta \u001b[36m0:00:00\u001b[0m\n",
            "\u001b[?25hRequirement already satisfied: PrettyTable>=0.7.2 in /usr/local/lib/python3.8/dist-packages (from cliff->optuna) (3.5.0)\n",
            "Collecting pyperclip>=1.6\n",
            "  Downloading pyperclip-1.8.2.tar.gz (20 kB)\n",
            "  Preparing metadata (setup.py) ... \u001b[?25l\u001b[?25hdone\n",
            "Requirement already satisfied: attrs>=16.3.0 in /usr/local/lib/python3.8/dist-packages (from cmd2>=1.0.0->cliff->optuna) (22.2.0)\n",
            "Requirement already satisfied: wcwidth>=0.1.7 in /usr/local/lib/python3.8/dist-packages (from cmd2>=1.0.0->cliff->optuna) (0.2.5)\n",
            "Collecting pbr!=2.1.0,>=2.0.0\n",
            "  Downloading pbr-5.11.0-py2.py3-none-any.whl (112 kB)\n",
            "\u001b[2K     \u001b[90m━━━━━━━━━━━━━━━━━━━━━━━━━━━━━━━━━━━━━━\u001b[0m \u001b[32m112.6/112.6 KB\u001b[0m \u001b[31m13.6 MB/s\u001b[0m eta \u001b[36m0:00:00\u001b[0m\n",
            "\u001b[?25hRequirement already satisfied: MarkupSafe>=0.9.2 in /usr/local/lib/python3.8/dist-packages (from Mako->alembic>=1.5.0->optuna) (2.0.1)\n",
            "Building wheels for collected packages: pyperclip\n",
            "  Building wheel for pyperclip (setup.py) ... \u001b[?25l\u001b[?25hdone\n",
            "  Created wheel for pyperclip: filename=pyperclip-1.8.2-py3-none-any.whl size=11136 sha256=d3dc06a967d9c5f63fcc47af66a37ce636681d6c4f44c99a14fb5f15eb72e2d0\n",
            "  Stored in directory: /root/.cache/pip/wheels/7f/1a/65/84ff8c386bec21fca6d220ea1f5498a0367883a78dd5ba6122\n",
            "Successfully built pyperclip\n",
            "Installing collected packages: pyperclip, pbr, Mako, importlib-metadata, colorlog, cmd2, cmaes, autopage, stevedore, alembic, cliff, optuna\n",
            "  Attempting uninstall: importlib-metadata\n",
            "    Found existing installation: importlib-metadata 5.2.0\n",
            "    Uninstalling importlib-metadata-5.2.0:\n",
            "      Successfully uninstalled importlib-metadata-5.2.0\n",
            "Successfully installed Mako-1.2.4 alembic-1.9.1 autopage-0.5.1 cliff-4.1.0 cmaes-0.9.1 cmd2-2.4.2 colorlog-6.7.0 importlib-metadata-4.13.0 optuna-3.0.5 pbr-5.11.0 pyperclip-1.8.2 stevedore-4.1.1\n"
          ]
        }
      ],
      "source": [
        "!pip install pydub\n",
        "!pip install optuna\n",
        "import librosa\n",
        "import glob\n",
        "from pydub import AudioSegment\n",
        "from google.colab import drive\n",
        "import os\n",
        "from pydub import AudioSegment\n",
        "import numpy as np\n",
        "from sklearn.neighbors import KNeighborsClassifier\n",
        "from sklearn.model_selection import train_test_split\n",
        "from sklearn.preprocessing import StandardScaler\n",
        "from sklearn.svm import SVC\n",
        "from collections import Counter\n",
        "import matplotlib.pyplot as plt\n",
        "from sklearn.pipeline import make_pipeline\n",
        "from sklearn.metrics import roc_auc_score, roc_curve, auc, precision_recall_curve, accuracy_score, f1_score, make_scorer, confusion_matrix, log_loss, recall_score, precision_score\n",
        "from sklearn.linear_model import LogisticRegression\n",
        "import optuna\n",
        "from sklearn.model_selection import cross_validate, StratifiedKFold\n",
        "import pickle\n",
        "import pandas as pd"
      ]
    },
    {
      "cell_type": "code",
      "source": [
        "drive.mount('/content/drive/', force_remount=True)\n",
        "path = '/content/drive/MyDrive/PUM/projekt/low'\n",
        "os.chdir(path)\n",
        "!ls"
      ],
      "metadata": {
        "id": "QZxLoi627WgS",
        "colab": {
          "base_uri": "https://localhost:8080/"
        },
        "outputId": "44ac6ce5-ce86-4281-baa6-505be7091ecd"
      },
      "execution_count": null,
      "outputs": [
        {
          "output_type": "stream",
          "name": "stdout",
          "text": [
            "Mounted at /content/drive/\n",
            "100.wav  19.wav  28.wav  37.wav  46.wav  55.wav  64.wav  73.wav  82.wav  91.wav\n",
            "10.wav\t 1.wav\t 29.wav  38.wav  47.wav  56.wav  65.wav  74.wav  83.wav  92.wav\n",
            "11.wav\t 20.wav  2.wav\t 39.wav  48.wav  57.wav  66.wav  75.wav  84.wav  93.wav\n",
            "12.wav\t 21.wav  30.wav  3.wav\t 49.wav  58.wav  67.wav  76.wav  85.wav  94.wav\n",
            "13.wav\t 22.wav  31.wav  40.wav  4.wav\t 59.wav  68.wav  77.wav  86.wav  95.wav\n",
            "14.wav\t 23.wav  32.wav  41.wav  50.wav  5.wav\t 69.wav  78.wav  87.wav  96.wav\n",
            "15.wav\t 24.wav  33.wav  42.wav  51.wav  60.wav  6.wav\t 79.wav  88.wav  97.wav\n",
            "16.wav\t 25.wav  34.wav  43.wav  52.wav  61.wav  70.wav  7.wav\t 89.wav  98.wav\n",
            "17.wav\t 26.wav  35.wav  44.wav  53.wav  62.wav  71.wav  80.wav  8.wav\t 99.wav\n",
            "18.wav\t 27.wav  36.wav  45.wav  54.wav  63.wav  72.wav  81.wav  90.wav  9.wav\n"
          ]
        }
      ]
    },
    {
      "cell_type": "code",
      "source": [
        "filenames = list(os.listdir('/content/drive/MyDrive/PUM/projekt/low'))\n",
        "LabelHorizontal = []\n",
        "LabelVertical = []\n",
        "\n",
        "with open(\"../motors_ground_truth\") as file: \n",
        "  for line in file:\n",
        "    line = line.strip().split('    ')\n",
        "    #print(line)\n",
        "    if float(line[1]) > -30 and float(line[1]) < 30 and f'{line[0]}.wav' in filenames:\n",
        "      LabelVertical.append(1)\n",
        "    if float(line[1]) > 30 and float(line[1]) < 90 and f'{line[0]}.wav' in filenames:\n",
        "      LabelVertical.append(2)\n",
        "    if float(line[1]) > 90 and float(line[1]) < 150 and f'{line[0]}.wav' in filenames:\n",
        "      LabelVertical.append(3)\n",
        "    if float(line[1]) > 150 and float(line[1]) < -150 and f'{line[0]}.wav' in filenames:\n",
        "      LabelVertical.append(4)\n",
        "    if float(line[1]) > -150 and float(line[1]) < -90 and f'{line[0]}.wav' in filenames:\n",
        "      LabelVertical.append(5)\n",
        "    if float(line[1]) > -90 and float(line[1]) < -30 and f'{line[0]}.wav' in filenames:\n",
        "      LabelVertical.append(6)\n",
        "\n",
        "    if float(line[2]) > -60 and float(line[2]) < -21 and f'{line[0]}.wav' in filenames:\n",
        "      LabelHorizontal.append(1)\n",
        "    if float(line[2]) > -20 and float(line[2]) < 20 and f'{line[0]}.wav' in filenames:\n",
        "      LabelHorizontal.append(2)\n",
        "    if float(line[2]) > 21 and float(line[2]) < 60 and f'{line[0]}.wav' in filenames:\n",
        "      LabelHorizontal.append(3)\n"
      ],
      "metadata": {
        "id": "Ckp29BRp4GuU"
      },
      "execution_count": null,
      "outputs": []
    }
  ]
}