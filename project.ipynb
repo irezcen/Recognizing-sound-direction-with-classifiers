{
 "cells": [
  {
   "attachments": {},
   "cell_type": "markdown",
   "metadata": {},
   "source": [
    "Cele projektu:\n",
    "Rozpoznanie kierunku dźwięku nagrań binauralnych pojedynczych próbek białego szumu. Rozpoznawanie kierunku poziomego lub pionowego. Porównanie metryk sukcesu klasyfikatora dla próbek pochodzących z nagrań binauralnych i sygnałów wygenerowanych przy pomocy hrtf'ów. "
   ]
  },
  {
   "cell_type": "code",
   "execution_count": 169,
   "metadata": {},
   "outputs": [],
   "source": [
    "#bilioteki\n",
    "from scipy import signal\n",
    "import numpy as np\n",
    "import librosa\n",
    "import sofa\n",
    "import soundfile as sf\n",
    "from IPython.display import Audio\n",
    "import sys,glob"
   ]
  },
  {
   "attachments": {},
   "cell_type": "markdown",
   "metadata": {},
   "source": [
    "PREPROCESSING:"
   ]
  },
  {
   "cell_type": "code",
   "execution_count": 170,
   "metadata": {},
   "outputs": [],
   "source": [
    "#funkcja obliczająca cechy:\n",
    "\n",
    "#statystyka\n",
    "#cechy spectrum(spectral centroiod, spectral rollof)\n",
    "#MFCC i GFCC\n",
    "#ILD, ILC, IC (filters 50Hz-16kHz 1/3octave)\n",
    "#RMS ratio, zero crossing rate"
   ]
  },
  {
   "cell_type": "code",
   "execution_count": 171,
   "metadata": {},
   "outputs": [],
   "source": [
    "#załadowanie danych szumu\n",
    "\n",
    "#ułożenie danych w macierz 3 wymiarową (pliki z danymi poziomymi, pliki z danymi pionowymi, dane)\n",
    "\n",
    "#sprawdzenie poprawnościd danych(czy nie ma brakujących plików)\n",
    "\n",
    "#pogrupowanie danych według kierunku poziomego i stworzenie labeli(ograniczenie ilości kerunków, np. 8), spłaszczenie danych\n",
    "\n",
    "#pogrupowanie danych według kierunku pionowego i stworzenie labeli(ograniczenie ilosci kierunków, np. 5), spłaszcenie danych\n",
    "\n",
    "#obliczenie cech(skorzystanie z funkcji wyżej)\n",
    "\n",
    "#podział na zbiór uczący i testowy(dla dwóch wariantów-kierunek poziomy i pionowy)\n",
    "\n",
    "#normalizacja danych"
   ]
  },
  {
   "attachments": {},
   "cell_type": "markdown",
   "metadata": {},
   "source": [
    "KLASYFIKATOR:\n",
    "klasyfikator 1->k najbliższych sąsiadów\n",
    "klasyfikator 2->randomForest"
   ]
  },
  {
   "cell_type": "code",
   "execution_count": 172,
   "metadata": {},
   "outputs": [],
   "source": [
    "#klsyfikator 1, dane poziome\n",
    "\n",
    "#metryki sukcesu"
   ]
  },
  {
   "cell_type": "code",
   "execution_count": 173,
   "metadata": {},
   "outputs": [],
   "source": [
    "#klasyfikator 1, dane pionowe\n",
    "\n",
    "#metryki sukcesu"
   ]
  },
  {
   "cell_type": "code",
   "execution_count": 174,
   "metadata": {},
   "outputs": [],
   "source": [
    "#klasyfikator 2, dane poziome\n",
    "\n",
    "#metryki sukcesu"
   ]
  },
  {
   "cell_type": "code",
   "execution_count": 175,
   "metadata": {},
   "outputs": [],
   "source": [
    "#klasyfikator 2, dane pionowe\n",
    "\n",
    "#metryki sukcesu"
   ]
  },
  {
   "attachments": {},
   "cell_type": "markdown",
   "metadata": {},
   "source": [
    "OPtymalizacja hiperparametrów:"
   ]
  },
  {
   "cell_type": "code",
   "execution_count": 176,
   "metadata": {},
   "outputs": [],
   "source": [
    "#funckcje dla klasyfikatora 1"
   ]
  },
  {
   "cell_type": "code",
   "execution_count": 177,
   "metadata": {},
   "outputs": [],
   "source": [
    "#optymalizacja klasyfikatora 1 dla danych poziomych"
   ]
  },
  {
   "cell_type": "code",
   "execution_count": 178,
   "metadata": {},
   "outputs": [],
   "source": [
    "#obliczenie metryk sukcesu dla zoptymalizowanych hiperparamterów dla klasyfikatora 1 dla danych poziomych"
   ]
  },
  {
   "cell_type": "code",
   "execution_count": 179,
   "metadata": {},
   "outputs": [],
   "source": [
    "#optymalizacja klasyfikatora 1 dla danych pionowych"
   ]
  },
  {
   "cell_type": "code",
   "execution_count": 180,
   "metadata": {},
   "outputs": [],
   "source": [
    "#obliczenie metryk sukcesu dla zoptymalizowanych hiperparamterów dla klasyfikatora 1 dla danych pionowych"
   ]
  },
  {
   "cell_type": "code",
   "execution_count": 181,
   "metadata": {},
   "outputs": [],
   "source": [
    "#funckcje dla klasyfikatora 2"
   ]
  },
  {
   "cell_type": "code",
   "execution_count": 182,
   "metadata": {},
   "outputs": [],
   "source": [
    "#optymalizacja klasyfikatora 2 dla danych poziomych"
   ]
  },
  {
   "cell_type": "code",
   "execution_count": 183,
   "metadata": {},
   "outputs": [],
   "source": [
    "#obliczenie metryk sukcesu dla zoptymalizowanych hiperparamterów dla klasyfikatora 2 dla danych poziomych"
   ]
  },
  {
   "cell_type": "code",
   "execution_count": 184,
   "metadata": {},
   "outputs": [],
   "source": [
    "#optymalizacja klasyfikatora 2 dla danych pionowych"
   ]
  },
  {
   "cell_type": "code",
   "execution_count": 185,
   "metadata": {},
   "outputs": [],
   "source": [
    "#obliczenie metryk sukcesu dla zoptymalizowanych hiperparamterów dla klasyfikatora 2 dla danych pionowych"
   ]
  },
  {
   "attachments": {},
   "cell_type": "markdown",
   "metadata": {},
   "source": [
    "PORÓWNANIE WYNIKÓW Z WYGENEROWANYMI DANYMI:"
   ]
  },
  {
   "cell_type": "code",
   "execution_count": 186,
   "metadata": {},
   "outputs": [],
   "source": [
    "#funkcja znajdująca najbliższy hrtf do zadanego kata\n",
    "def findNearest(array, value):\n",
    "    array = np.asarray(array)\n",
    "    idx = (np.abs(array-value)).argmin()\n",
    "    return array[idx], idx"
   ]
  },
  {
   "cell_type": "code",
   "execution_count": 190,
   "metadata": {},
   "outputs": [
    {
     "ename": "AttributeError",
     "evalue": "'numpy.ndarray' object has no attribute 'Data'",
     "output_type": "error",
     "traceback": [
      "\u001b[1;31m---------------------------------------------------------------------------\u001b[0m",
      "\u001b[1;31mAttributeError\u001b[0m                            Traceback (most recent call last)",
      "Cell \u001b[1;32mIn[190], line 9\u001b[0m\n\u001b[0;32m      7\u001b[0m _SOFA \u001b[39m=\u001b[39m glob\u001b[39m.\u001b[39mglob(sofaDir)\n\u001b[0;32m      8\u001b[0m HRTFs \u001b[39m=\u001b[39m np\u001b[39m.\u001b[39mvstack([sofa\u001b[39m.\u001b[39mDatabase\u001b[39m.\u001b[39mopen(_SOFA[x]) \u001b[39mfor\u001b[39;00m x \u001b[39min\u001b[39;00m \u001b[39mrange\u001b[39m(\u001b[39m0\u001b[39m, \u001b[39m30\u001b[39m)])\n\u001b[1;32m----> 9\u001b[0m fs_H \u001b[39m=\u001b[39m HRTFs[\u001b[39m0\u001b[39;49m]\u001b[39m.\u001b[39;49mData\u001b[39m.\u001b[39mSamplingRate\u001b[39m.\u001b[39mget_values()[\u001b[39m0\u001b[39m]\n\u001b[0;32m     10\u001b[0m positions \u001b[39m=\u001b[39m HRTFs[\u001b[39m0\u001b[39m]\u001b[39m.\u001b[39mSource\u001b[39m.\u001b[39mPosition\u001b[39m.\u001b[39mget_values(system\u001b[39m=\u001b[39m\u001b[39m'\u001b[39m\u001b[39mspherical\u001b[39m\u001b[39m'\u001b[39m)\n\u001b[0;32m     11\u001b[0m \u001b[39mprint\u001b[39m(HRTFs\u001b[39m.\u001b[39mshape)\n",
      "\u001b[1;31mAttributeError\u001b[0m: 'numpy.ndarray' object has no attribute 'Data'"
     ]
    }
   ],
   "source": [
    "#wygenerowanie białego szumu\n",
    "size = 44100\n",
    "WhiteNoise = np.random.normal(0, 1, size=size)\n",
    "\n",
    "#załadowanie hrtf'ów\n",
    "sofaDir = 'dane_hrtf/sofa/*.sofa'\n",
    "_SOFA = glob.glob(sofaDir)\n",
    "HRTFs = np.vstack([sofa.Database.open(_SOFA[x]) for x in range(0, 30)])\n",
    "a = HRTFs[0]\n",
    "positions = HRTFs[0].Source.Position.get_values(system='spherical')\n",
    "print(HRTFs.shape)\n",
    "#przefiltrowanie danych przez hrtf'y(stworzenie plików odpowiadających realnym danom)\n",
    "#dupaaaa\n",
    "#ułożenie danych w macierz 3 wymiarową (pliki z danymi poziomymi, pliki z danymi pionowymi, dane)\n",
    "#dupaaaaa2\n",
    "#pogrupowanie danych według kierunku poziomego i stworzenie labeli(ograniczenie ilości kerunków, np. 8), spłaszczenie danych\n",
    "\n",
    "#pogrupowanie danych według kierunku pionowego i stworzenie labeli(ograniczenie ilosci kierunków, np. 5), spłaszcenie danych\n",
    "\n",
    "#obliczenie cech(skorzystanie z funkcji wyżej)\n",
    "\n",
    "#podział na zbiór uczący i testowy(dla dwóch wariantów-kierunek poziomy i pionowy)\n",
    "\n",
    "#normalizacja danych"
   ]
  },
  {
   "attachments": {},
   "cell_type": "markdown",
   "metadata": {},
   "source": [
    "KLASYFIKATOR:"
   ]
  },
  {
   "cell_type": "code",
   "execution_count": null,
   "metadata": {},
   "outputs": [
    {
     "name": "stdout",
     "output_type": "stream",
     "text": [
      "44100.0\n",
      "(2304, 3)\n"
     ]
    }
   ],
   "source": [
    "#klasyfikator 1, dane poziome\n",
    "\n",
    "#metryki sukcesu\n",
    "print(fs_H)\n",
    "print(positions.shape)"
   ]
  },
  {
   "cell_type": "code",
   "execution_count": null,
   "metadata": {},
   "outputs": [],
   "source": [
    "#klasyfikator 1, dane pionowe\n",
    "\n",
    "#metryki sukcesu"
   ]
  },
  {
   "cell_type": "code",
   "execution_count": null,
   "metadata": {},
   "outputs": [],
   "source": [
    "#klasyfikator 2, dane poziome\n",
    "\n",
    "#metryki sukcesu"
   ]
  },
  {
   "cell_type": "code",
   "execution_count": null,
   "metadata": {},
   "outputs": [],
   "source": [
    "#klasyfikator 2, dane pionowe\n",
    "\n",
    "#metryki sukcesu"
   ]
  },
  {
   "attachments": {},
   "cell_type": "markdown",
   "metadata": {},
   "source": [
    "OPTYMALIZACJA HIPERPARAMETRÓW:"
   ]
  },
  {
   "cell_type": "code",
   "execution_count": null,
   "metadata": {},
   "outputs": [],
   "source": [
    "#optymalizacja klasyfikatora 1 dla danych poziomych"
   ]
  },
  {
   "cell_type": "code",
   "execution_count": null,
   "metadata": {},
   "outputs": [],
   "source": [
    "#obliczenie metryk sukcesu dla zoptymalizowanych hiperparamterów dla klasyfikatora 1 dla danych poziomych"
   ]
  },
  {
   "cell_type": "code",
   "execution_count": null,
   "metadata": {},
   "outputs": [],
   "source": [
    "#optymalizacja klasyfikatora 1 dla danych pionowych"
   ]
  },
  {
   "cell_type": "code",
   "execution_count": null,
   "metadata": {},
   "outputs": [],
   "source": [
    "#obliczenie metryk sukcesu dla zoptymalizowanych hiperparamterów dla klasyfikatora 1 dla danych pionowych"
   ]
  },
  {
   "cell_type": "code",
   "execution_count": null,
   "metadata": {},
   "outputs": [],
   "source": [
    "#optymalizacja klasyfikatora 2 dla danych poziomych"
   ]
  },
  {
   "cell_type": "code",
   "execution_count": null,
   "metadata": {},
   "outputs": [],
   "source": [
    "#obliczenie metryk sukcesu dla zoptymalizowanych hiperparamterów dla klasyfikatora 2 dla danych poziomych"
   ]
  },
  {
   "cell_type": "code",
   "execution_count": null,
   "metadata": {},
   "outputs": [],
   "source": [
    "#optymalizacja klasyfikatora 2 dla danych pionowych"
   ]
  },
  {
   "cell_type": "code",
   "execution_count": null,
   "metadata": {},
   "outputs": [],
   "source": [
    "#obliczenie metryk sukcesu dla zoptymalizowanych hiperparamterów dla klasyfikatora 2 dla danych pionowych"
   ]
  }
 ],
 "metadata": {
  "kernelspec": {
   "display_name": "Python 3",
   "language": "python",
   "name": "python3"
  },
  "language_info": {
   "codemirror_mode": {
    "name": "ipython",
    "version": 3
   },
   "file_extension": ".py",
   "mimetype": "text/x-python",
   "name": "python",
   "nbconvert_exporter": "python",
   "pygments_lexer": "ipython3",
   "version": "3.10.9 (tags/v3.10.9:1dd9be6, Dec  6 2022, 20:01:21) [MSC v.1934 64 bit (AMD64)]"
  },
  "orig_nbformat": 4,
  "vscode": {
   "interpreter": {
    "hash": "d8f7f873c6264afcd7493954ca8a682b928e82db5b16fd04e2fb4c78f99081fb"
   }
  }
 },
 "nbformat": 4,
 "nbformat_minor": 2
}
